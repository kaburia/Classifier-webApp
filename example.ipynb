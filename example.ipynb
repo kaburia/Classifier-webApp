{
 "cells": [
  {
   "cell_type": "code",
   "execution_count": 18,
   "metadata": {},
   "outputs": [
    {
     "data": {
      "text/plain": [
       "{'probability_fake': 88.73, 'probability_real': 11.27, 'result': 'Fake'}"
      ]
     },
     "execution_count": 18,
     "metadata": {},
     "output_type": "execute_result"
    }
   ],
   "source": [
    "import requests\n",
    "\n",
    "# URL for the Flask app\n",
    "url = \"http://localhost:5500/api/classify\"\n",
    "\n",
    "# Load the image file\n",
    "file = open(\"fake_0.jpg\", \"rb\")\n",
    "files = {\"file\": file}\n",
    "\n",
    "# Make a POST request with the image file\n",
    "response = requests.post(url, files=files)\n",
    "\n",
    "# Print the response content\n",
    "response.json()\n"
   ]
  },
  {
   "cell_type": "code",
   "execution_count": 16,
   "metadata": {},
   "outputs": [
    {
     "data": {
      "text/plain": [
       "['Real', 'Fake']"
      ]
     },
     "execution_count": 16,
     "metadata": {},
     "output_type": "execute_result"
    }
   ],
   "source": [
    "import requests\n",
    "\n",
    "# URL for the Flask app\n",
    "url = \"http://localhost:5500/api/classnames\"\n",
    "\n",
    "# Load the image file\n",
    "file = open(\"fake_0.jpg\", \"rb\")\n",
    "files = {\"file\": file}\n",
    "\n",
    "# Make a POST request with the image file\n",
    "response = requests.post(url, files=files)\n",
    "\n",
    "# Print the response content\n",
    "response.json()\n"
   ]
  }
 ],
 "metadata": {
  "kernelspec": {
   "display_name": "Python 3",
   "language": "python",
   "name": "python3"
  },
  "language_info": {
   "codemirror_mode": {
    "name": "ipython",
    "version": 3
   },
   "file_extension": ".py",
   "mimetype": "text/x-python",
   "name": "python",
   "nbconvert_exporter": "python",
   "pygments_lexer": "ipython3",
   "version": "3.10.10"
  },
  "orig_nbformat": 4
 },
 "nbformat": 4,
 "nbformat_minor": 2
}
